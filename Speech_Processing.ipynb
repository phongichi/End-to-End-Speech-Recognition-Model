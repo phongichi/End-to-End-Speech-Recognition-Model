{
  "nbformat": 4,
  "nbformat_minor": 0,
  "metadata": {
    "colab": {
      "name": "Speech_Processing.ipynb",
      "provenance": [],
      "collapsed_sections": []
    },
    "kernelspec": {
      "name": "python3",
      "display_name": "Python 3"
    },
    "language_info": {
      "name": "python"
    },
    "accelerator": "GPU",
    "gpuClass": "standard"
  },
  "cells": [
    {
      "cell_type": "markdown",
      "source": [
        "# MFCCs "
      ],
      "metadata": {
        "id": "OWkUmXvcvGnj"
      }
    },
    {
      "cell_type": "code",
      "source": [
        "import numpy as np\n",
        "import scipy.io.wavfile\n",
        "from scipy.fftpack import dct"
      ],
      "metadata": {
        "id": "wTdX2Fb6vI9G"
      },
      "execution_count": 1,
      "outputs": []
    },
    {
      "cell_type": "markdown",
      "source": [
        "READ .wav file "
      ],
      "metadata": {
        "id": "3ywfF0B93GhU"
      }
    },
    {
      "cell_type": "code",
      "source": [
        "wavs_path = \"/content/OSR_us_000_0010_8k.wav\"\n",
        "sample_rate, signal = scipy.io.wavfile.read(wavs_path)  \n",
        "signal = signal[0:int(3.5 * sample_rate)]  # Keep the first 3.5 seconds"
      ],
      "metadata": {
        "id": "DmtKsMw23Kt6"
      },
      "execution_count": 2,
      "outputs": []
    },
    {
      "cell_type": "markdown",
      "source": [
        "Pre-Emphasis "
      ],
      "metadata": {
        "id": "d5kBw-FO3Oci"
      }
    },
    {
      "cell_type": "code",
      "source": [
        "pre_emphasis = 0.97\n",
        "emphasized_signal = np.append(signal[0], signal[1:] - pre_emphasis * signal[:-1])"
      ],
      "metadata": {
        "id": "EqbBFav03Ovi"
      },
      "execution_count": 3,
      "outputs": []
    },
    {
      "cell_type": "markdown",
      "source": [
        "Framing"
      ],
      "metadata": {
        "id": "TwBCSg2y3O6C"
      }
    },
    {
      "cell_type": "code",
      "source": [
        "frame_size = 0.025\n",
        "frame_stride = 0.01\n",
        "\n",
        "frame_length, frame_step = frame_size * sample_rate, frame_stride * sample_rate  # Convert from seconds to samples\n",
        "signal_length = len(emphasized_signal)\n",
        "frame_length = int(round(frame_length))\n",
        "frame_step = int(round(frame_step))\n",
        "num_frames = int(np.ceil(float(np.abs(signal_length - frame_length)) / frame_step))  \n",
        "pad_signal_length = num_frames * frame_step + frame_length\n",
        "z = np.zeros((pad_signal_length - signal_length))\n",
        "pad_signal = np.append(emphasized_signal, z) \n",
        "# Pad Signal to make sure that all frames have equal number of samples without truncating any samples from the original signal\n",
        "\n",
        "indices = np.tile(np.arange(0, frame_length), (num_frames, 1)) + np.tile(np.arange(0, num_frames * frame_step, frame_step), (frame_length, 1)).T\n",
        "frames = pad_signal[indices.astype(np.int32, copy=False)]"
      ],
      "metadata": {
        "id": "o5-hshqh3PEV"
      },
      "execution_count": 4,
      "outputs": []
    },
    {
      "cell_type": "markdown",
      "source": [
        "Windowing"
      ],
      "metadata": {
        "id": "s0Nlgyzo3POG"
      }
    },
    {
      "cell_type": "code",
      "source": [
        "# A Hamming window :\n",
        "def w_hamming(k) :\n",
        "  w = 0.54 - 0.46 * np.cos((2 * np.pi * n) / (k - 1))\n",
        "  return w\n",
        "\n",
        "#frames *= w_hamming(frame_length)"
      ],
      "metadata": {
        "id": "GvkL9Gyy3PWy"
      },
      "execution_count": 5,
      "outputs": []
    },
    {
      "cell_type": "code",
      "source": [
        "frames *= np.hamming(frame_length)\n",
        "frames *= np.hanning(frame_length)"
      ],
      "metadata": {
        "id": "ZB0HPxz48lHl"
      },
      "execution_count": 6,
      "outputs": []
    },
    {
      "cell_type": "markdown",
      "source": [
        "Fourier-Transform and Power Spectrum"
      ],
      "metadata": {
        "id": "IA_zKPpJ9M9T"
      }
    },
    {
      "cell_type": "code",
      "source": [
        "NFFT = 512\n",
        "mag_frames = np.absolute(np.fft.rfft(frames, NFFT)) \n",
        "\n",
        "# Power Spectrum\n",
        "pow_frames = ((1.0 / NFFT) * ((mag_frames) ** 2))  "
      ],
      "metadata": {
        "id": "WbnAWbWF9Nri"
      },
      "execution_count": 7,
      "outputs": []
    },
    {
      "cell_type": "markdown",
      "source": [
        "Mel FilterBanks"
      ],
      "metadata": {
        "id": "AZm9ELvDA3UW"
      }
    },
    {
      "cell_type": "code",
      "source": [
        "nfilt = 40\n",
        "\n",
        "low_freq_mel = 0\n",
        "high_freq_mel = (2595 * np.log10(1 + (sample_rate / 2) / 700))  # Convert Hz to Mel\n",
        "mel_points = np.linspace(low_freq_mel, high_freq_mel, nfilt + 2)  # Equally spaced in Mel scale\n",
        "hz_points = (700 * (10**(mel_points / 2595) - 1))  # Convert Mel to Hz\n",
        "bin = np.floor((NFFT + 1) * hz_points / sample_rate)\n",
        "\n",
        "fbank = np.zeros((nfilt, int(np.floor(NFFT / 2 + 1))))\n",
        "for m in range(1, nfilt + 1):\n",
        "    f_m_minus = int(bin[m - 1])   # left\n",
        "    f_m = int(bin[m])             # center\n",
        "    f_m_plus = int(bin[m + 1])    # right\n",
        "\n",
        "    for k in range(f_m_minus, f_m):\n",
        "        fbank[m - 1, k] = (k - bin[m - 1]) / (bin[m] - bin[m - 1])\n",
        "    for k in range(f_m, f_m_plus):\n",
        "        fbank[m - 1, k] = (bin[m + 1] - k) / (bin[m + 1] - bin[m])\n",
        "filter_banks = np.dot(pow_frames, fbank.T)\n",
        "filter_banks = np.where(filter_banks == 0, np.finfo(float).eps, filter_banks)  # Numerical Stability\n",
        "filter_banks = 20 * np.log10(filter_banks)  # dB"
      ],
      "metadata": {
        "id": "yIEB9uYfA5tE"
      },
      "execution_count": 8,
      "outputs": []
    },
    {
      "cell_type": "markdown",
      "source": [
        "ceptrum (IDFT)"
      ],
      "metadata": {
        "id": "su0AlMB8CeJE"
      }
    },
    {
      "cell_type": "code",
      "source": [
        "num_ceps = 12\n",
        "\n",
        "mfcc = dct(filter_banks, type=2, axis=1, norm='ortho')[:, 1 : (num_ceps + 1)] # Keep 2-13\n"
      ],
      "metadata": {
        "id": "loWRKBdtCuor"
      },
      "execution_count": 10,
      "outputs": []
    },
    {
      "cell_type": "markdown",
      "source": [
        "dynamic features (delta)"
      ],
      "metadata": {
        "id": "sCSlJu_MF8Nr"
      }
    },
    {
      "cell_type": "code",
      "source": [
        ""
      ],
      "metadata": {
        "id": "EzIMHxrnF8fB"
      },
      "execution_count": null,
      "outputs": []
    },
    {
      "cell_type": "markdown",
      "source": [
        "Mean Normalization"
      ],
      "metadata": {
        "id": "_95pvlWuE2T7"
      }
    },
    {
      "cell_type": "code",
      "source": [
        "filter_banks -= (np.mean(filter_banks, axis=0) + 1e-8)"
      ],
      "metadata": {
        "id": "TvjrwKc7E2gT"
      },
      "execution_count": 11,
      "outputs": []
    }
  ]
}